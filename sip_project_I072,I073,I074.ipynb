{
 "cells": [
  {
   "cell_type": "code",
   "execution_count": null,
   "id": "4c9bc3e5-fc2c-499a-bd76-7820b7530ce1",
   "metadata": {},
   "outputs": [],
   "source": [
    "#IMPORTING LIBRARIES\n",
    "import cv2\n",
    "import matplotlib.pyplot as plt\n",
    "import numpy as np"
   ]
  },
  {
   "cell_type": "code",
   "execution_count": null,
   "id": "ba9bc477-3773-40e2-8a8b-1e4bee8ba04f",
   "metadata": {},
   "outputs": [],
   "source": [
    "import matplotlib.image as mpimg\n",
    "import matplotlib.pyplot as plt\n",
    " \n",
    "# Read Image using matplotlib\n",
    "img = mpimg.imread(  )\n",
    "plt.imshow(img)"
   ]
  },
  {
   "cell_type": "code",
   "execution_count": null,
   "id": "512e2cbd-9ff8-4b1b-a706-784f2e694580",
   "metadata": {},
   "outputs": [],
   "source": [
    "# Apply bilateral filter to preserve edges while smoothing the image\n",
    "color = cv2.bilateralFilter(img, 200,200, 7)\n",
    "plt.imshow(color)"
   ]
  },
  {
   "cell_type": "code",
   "execution_count": null,
   "id": "01b1efcf-a558-48f4-a57e-1c07c335d0a1",
   "metadata": {},
   "outputs": [],
   "source": [
    "# Convert the image to grayscale\n",
    "gray = cv2.cvtColor(color, cv2.COLOR_RGB2GRAY)\n",
    "plt.imshow(gray,cmap='gray')"
   ]
  },
  {
   "cell_type": "code",
   "execution_count": null,
   "id": "93a683f7-6f17-4d90-96a8-20bfd18b95c6",
   "metadata": {},
   "outputs": [],
   "source": [
    "# Apply median blur to remove noise(salt&pepper) and smooth the image\n",
    "blur = median_blur(gray, 7)\n",
    "plt.imshow(blur,cmap='gray')\n",
    "plt.show()"
   ]
  },
  {
   "cell_type": "code",
   "execution_count": null,
   "id": "82bccc2f-97e9-4ee8-b365-a218cec5d87d",
   "metadata": {},
   "outputs": [],
   "source": [
    "# Apply adaptive thresholding to the grayscale image\n",
    "edges = cv2.adaptiveThreshold(gray, 255, cv2.ADAPTIVE_THRESH_MEAN_C, cv2.THRESH_BINARY, 9, 2)\n",
    "\n",
    "# Display the result\n",
    "plt.imshow(edges, cmap='gray')  \n",
    "plt.show()"
   ]
  },
  {
   "cell_type": "code",
   "execution_count": null,
   "id": "45c6464f-02c6-4978-bde6-c5b5082a52b3",
   "metadata": {},
   "outputs": [],
   "source": [
    "# Convert the thresholded image to color\n",
    "frame_edge = cv2.cvtColor(edges, cv2.COLOR_GRAY2RGB)\n",
    "plt.imshow(frame_edge)  \n",
    "plt.show()"
   ]
  },
  {
   "cell_type": "code",
   "execution_count": null,
   "id": "3f0318ba-eec6-4a9e-b515-1a1a1077e382",
   "metadata": {},
   "outputs": [],
   "source": [
    "# Apply bitwise AND operation to the color image and the thresholded image\n",
    "cartoon = cv2.bitwise_and(np.uint8(color), frame_edge)\n",
    "\n",
    "# Display the resulting image\n",
    "plt.imshow(cartoon)\n",
    "plt.show()"
   ]
  },
  {
   "cell_type": "markdown",
   "id": "bc090766-1c82-426f-b4d0-8f8480c53e3c",
   "metadata": {},
   "source": [
    "appendix"
   ]
  },
  {
   "cell_type": "code",
   "execution_count": null,
   "id": "faefdff7-ba62-4e92-8eca-16b84be87376",
   "metadata": {},
   "outputs": [],
   "source": [
    "def median_blur(img, ksize):    \n",
    "    filtered_img = np.zeros(img.shape, dtype=np.float32)\n",
    "\n",
    "    for i in range(ksize // 2, img.shape[0] - ksize // 2):\n",
    "        for j in range(ksize // 2, img.shape[1] - ksize // 2):\n",
    "            i_min = i - ksize // 2\n",
    "            i_max = i + ksize // 2 + 1\n",
    "            j_min = j - ksize // 2\n",
    "            j_max = j + ksize // 2 + 1\n",
    "            window = img[i_min:i_max, j_min:j_max]\n",
    "            median = np.median(window)\n",
    "            filtered_img[i, j] = median\n",
    "\n",
    "    return filtered_img.astype(np.uint8)"
   ]
  },
  {
   "cell_type": "code",
   "execution_count": null,
   "id": "eb3e6a47-8fa7-4013-8c60-dbd796eb49d1",
   "metadata": {},
   "outputs": [],
   "source": []
  }
 ],
 "metadata": {
  "kernelspec": {
   "display_name": "Python 3 (ipykernel)",
   "language": "python",
   "name": "python3"
  },
  "language_info": {
   "codemirror_mode": {
    "name": "ipython",
    "version": 3
   },
   "file_extension": ".py",
   "mimetype": "text/x-python",
   "name": "python",
   "nbconvert_exporter": "python",
   "pygments_lexer": "ipython3",
   "version": "3.11.5"
  }
 },
 "nbformat": 4,
 "nbformat_minor": 5
}
